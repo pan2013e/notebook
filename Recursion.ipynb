{
 "cells": [
  {
   "cell_type": "markdown",
   "metadata": {},
   "source": [
    "<div align=center>\n",
    "Zhiyuan Pan, Zhejiang University\n",
    "</div>\n",
    "\n",
    "# Characteristics\n",
    "* Recursive: of, relating to, or constituting a procedure that can repeat itself indefinitely\n",
    "* Recursion: a repeated application of a recursive procedure or definition.('recursion',from late Latin word 'recurrere' which means '**run back**')\n",
    "* Tactic: divide a problem into sub-problems of the same type as the original (Divide-and-Conquer Method)\n",
    "\n",
    "# Principles\n",
    "## Recursive functions in programming:\n",
    "* Base case: There must be one or more base cases in recursive functions. In base case, the function produces a result trivially.\n",
    "* Make progress: The program recurs to get solutions to smaller instances of the same problem. In a well-defined function, the base case must be reached eventually.\n",
    "* Always believe: Always assume the recursive call works.\n",
    "* Compound interest rule: Never duplicate work by solving the same instance of a problem in separate recursive calls.\n",
    "\n",
    "## Recursively defined functions in mathematics:\n",
    "* Basis step: Specify the value of the function at zero.\n",
    "* Recursive step: Give the rules for finding its value at an integer from its value at smaller integers.\n",
    "\n",
    "# Examples\n",
    "## Factorial\n",
    "We can write down function definition or recurrence relationship for this:\n",
    "$$n!=\\prod_{k=1}^{n}k=n\\times (n-1)!$$\n",
    "$$\n",
    "f(n)=\\begin{cases}\n",
    "1 & n=0, \\\\\n",
    "n\\times f(n-1) & n>0,n\\in\\mathbb{N}.\n",
    "\\end{cases}\n",
    "$$\n",
    "\n",
    "* Base case: $0!=1$\n",
    "* Make Progress：$n\\rightarrow n-1 \\rightarrow \\cdots \\rightarrow 0\\rightarrow$breaks the chain of recursion\n"
   ]
  },
  {
   "cell_type": "code",
   "execution_count": 1,
   "metadata": {},
   "outputs": [
    {
     "name": "stdout",
     "output_type": "stream",
     "text": [
      "Output:24"
     ]
    }
   ],
   "source": [
    "#include <stdio.h>\n",
    "int fac(int n){\n",
    "    if(n==0) return 1;\n",
    "    else return n*fac(n-1);\n",
    "}\n",
    "int main(){\n",
    "    printf(\"Output:%d\",fac(4));\n",
    "    return 0;\n",
    "}"
   ]
  },
  {
   "cell_type": "markdown",
   "metadata": {},
   "source": [
    "procedure:\n",
    "```c\n",
    "f4           = 4 * f3\n",
    "             = 4 * (3 * f2)\n",
    "             = 4 * (3 * (2 * f1))\n",
    "             = 4 * (3 * (2 * (1 * f0)))\n",
    "             = 4 * (3 * (2 * (1 * 1)))\n",
    "             = 4 * (3 * (2 * 1))\n",
    "             = 4 * (3 * 2)\n",
    "             = 4 * 6\n",
    "             = 24\n",
    "```"
   ]
  },
  {
   "cell_type": "markdown",
   "metadata": {},
   "source": [
    "## Fibonacci numbers\n",
    "$$\n",
    "fib(n)=\\begin{cases}\n",
    "n & n=0 \\lor n=1, \\\\\n",
    "fib(n-1)+fib(n-2) & n>0,n\\in\\mathbb{N}.\n",
    "\\end{cases}\n",
    "$$"
   ]
  },
  {
   "cell_type": "markdown",
   "metadata": {},
   "source": [
    "## Euclidean algorithm\n",
    "$$\n",
    "gcd(x,y)=\\begin{cases}\n",
    " & y=0, \\\\\n",
    "gcd(y,x\\mod y)& y >0.\n",
    "\\end{cases}\n",
    "$$\n"
   ]
  },
  {
   "cell_type": "code",
   "execution_count": 2,
   "metadata": {},
   "outputs": [
    {
     "name": "stdout",
     "output_type": "stream",
     "text": [
      "Output: 4\n"
     ]
    }
   ],
   "source": [
    "#include <stdio.h>\n",
    "\n",
    "int gcd( int x, int y );\n",
    "\n",
    "int main(){\n",
    "    int x=36, y=8;\n",
    "    printf(\"Output: %d\\n\", gcd(x, y));\n",
    "    return 0;\n",
    "}\n",
    "\n",
    "int gcd( int x, int y ){\n",
    "    if(y==0) return x;\n",
    "    if(y>x){\n",
    "        int t=y;y=x;x=t;\n",
    "    }\n",
    "    return gcd(y,x%y);\n",
    "}"
   ]
  },
  {
   "cell_type": "markdown",
   "metadata": {},
   "source": [
    "## Newton's method\n",
    "\n",
    "Let the given number be $b$ and let $x_0$ be a rough guess of the square root of $b$. Newton's method suggests that a better guess, a new $x_{n+1}(n=0,1,\\cdots)$ can be computed as follows:\n",
    "$$ x_{n+1}=\\dfrac{1}{2}\\left(x_n+\\dfrac{b}{x_n}\\right)$$\n",
    "\n",
    "One can start with a number $x_0$ as a rough guess and compute $x_{n+1}$. From $x_{n+1}$, one can generate a even better guess, until two successive guesses are very close, for instance, given $\\varepsilon >0$, $|x_{n+1}-x_{n}|<\\varepsilon$. Then either one could be considered as the square root of $b$.\n",
    "\n",
    "<!-- <div align=center>\n",
    "<img src=\"nm.jpg\" width=\"20%\" height=\"20%\" alt=\"diagram\"/>\n",
    "</div> -->\n",
    "\n",
    "It is actually an iterative algorithm, but it can be implemented in recursive functions."
   ]
  },
  {
   "cell_type": "code",
   "execution_count": 3,
   "metadata": {},
   "outputs": [
    {
     "name": "stdout",
     "output_type": "stream",
     "text": [
      "Output:\n",
      "sqrt(x)=1.732\n"
     ]
    }
   ],
   "source": [
    "//Using Newton's method to approximate square roots.\n",
    "#include <stdio.h>\n",
    "#include <math.h>\n",
    "\n",
    "double f(double x, double guess, double eps);\n",
    "\n",
    "int main()\n",
    "{\n",
    "    double x=3.0, eps=1e-3;\n",
    "    printf(\"Output:\\nsqrt(x)=%.3f\\n\", f(x, 1.0, eps));\n",
    "  return 0;\n",
    "}\n",
    "\n",
    "double f(double x, double guess, double eps){\n",
    "    double t=(guess+x/guess)/2.0;\n",
    "    if(fabs(guess*guess-x)<eps){\n",
    "        return guess;\n",
    "    }else {\n",
    "        return f(x,t,eps);\n",
    "    }\n",
    "}"
   ]
  },
  {
   "cell_type": "markdown",
   "metadata": {},
   "source": [
    "## Towers of Hanoi\n",
    "### Number of steps\n",
    "$$\n",
    "hanoi(n)=\n",
    "\\begin{cases}\n",
    "1 & n=1, \\\\\n",
    "2\\times hanoi(n-1)+1 & n>1.\n",
    "\\end{cases}\n",
    "$$\n",
    "**Proof**\n",
    "\n",
    "Let $H_n$ denote the number of moves needed to solve the puzzle with $n$ disks.\n",
    "\n",
    "Begin with $n$ disks on peg $1$(source peg), we can transfer the top $n-1$ disks, following the rules of the puzzle, to peg $2$(auxilary peg) using $H_{n-1}$ moves.\n",
    "\n",
    "After that, we use $1$ move to transfer the largest disk to peg $3$(target peg). Then we transfer the $n-1$ disks from peg 2 to peg 3 using $H_{n-1}$ additional moves. This cannot be done in fewer steps. Hence,\n",
    "$$H_n=2H_{n-1}+1$$\n",
    "The initial condition is $H_1=1$ since a single disk can be transferred from peg 1 to peg 3 in one move.\n",
    "\n",
    "### Explicit steps"
   ]
  },
  {
   "cell_type": "code",
   "execution_count": 4,
   "metadata": {},
   "outputs": [],
   "source": [
    "#include <stdio.h>\n",
    "enum tower{\n",
    "    SRC = 0,\n",
    "    AUX    ,\n",
    "    TAR    ,\n",
    "};\n",
    "void prtMove(char from,char to){\n",
    "    printf(\"%c -> %c\\n\",from,to);\n",
    "}\n",
    "void rMove(int n,char src,char aux,char tar){\n",
    "    if(n==0){\n",
    "        return;\n",
    "    }else{\n",
    "        rMove(n-1,src,tar,aux);\n",
    "        prtMove(src,tar);\n",
    "        rMove(n-1,aux,src,tar);\n",
    "    }\n",
    "}\n",
    "int main(){\n",
    "    int n=3;\n",
    "    char name[3];\n",
    "    name[SRC]='a';name[AUX]='b';name[TAR]='c';\n",
    "    printf(\"Output:\\n\");\n",
    "    printf(\"Hanoi Tower with %d disks\\n----------------------\\n\",n);\n",
    "    rMove(n,name[SRC],name[AUX],name[TAR]);\n",
    "    return 0;\n",
    "}"
   ]
  },
  {
   "cell_type": "markdown",
   "metadata": {},
   "source": [
    "```\n",
    "Output:\n",
    "Hanoi Tower with 3 disks\n",
    "----------------------\n",
    "a -> c\n",
    "a -> b\n",
    "c -> b\n",
    "a -> c\n",
    "b -> a\n",
    "b -> c\n",
    "a -> c\n",
    "```"
   ]
  },
  {
   "cell_type": "markdown",
   "metadata": {},
   "source": [
    "## Recursive data structure \n",
    "### Linked list"
   ]
  },
  {
   "cell_type": "code",
   "execution_count": null,
   "metadata": {},
   "outputs": [],
   "source": [
    "struct node\n",
    "{\n",
    "  int data;           // some integer data\n",
    "  struct node *next;  // pointer to another struct node\n",
    "};"
   ]
  },
  {
   "cell_type": "code",
   "execution_count": null,
   "metadata": {},
   "outputs": [],
   "source": [
    "void list_print(struct node *list)\n",
    "{\n",
    "    if (list != NULL)               // base case\n",
    "    {\n",
    "       printf (\"%d \", list->data);  // print integer data followed by a space\n",
    "       list_print (list->next);     // recursive call on the next node\n",
    "    }\n",
    "}"
   ]
  },
  {
   "cell_type": "markdown",
   "metadata": {},
   "source": [
    "# Types\n",
    "## Tail recursive functions\n",
    "Tail recursion is a special case of recursion where the calling function does no more computation after making a recursive call.\n",
    "\n",
    "When we have tail recursion we know that as soon as we return from the recursive call we're going to immediately return as well, so we can skip the entire chain of recursive functions returning and return straight to the original caller.\n",
    "\n",
    "Examples: `gcd(x,y)`\n",
    "\n",
    "Examples for normal recursion (non-tail recursion): `fac(n),fib(n)`\n",
    "\n",
    "## Linear recursive functions and tree recursive functions\n",
    "### Linear \n",
    "If a recursive function calling itself for one time then it's known as Linear Recursion.\n",
    "<!-- <div align=center>\n",
    "<img src=\"ln.png\" width=\"20%\" height=\"20%\" alt=\"diagram\"/>\n",
    "</div> -->\n",
    "Examples: `fib(n),gcd(x,y)`\n",
    "\n",
    "### Tree\n",
    "\n",
    "Tree Recursion is a phrase to describe when you make a recursive call more than once in your recursive case. Whenever it is called, the recursive calls branch out and form an upside-down tree. \n",
    "\n",
    "For example, in function `fib(n)` which returns the n-th Fibonacci number, there are three parts to consider:\n",
    "\n",
    "* There are two base cases. (`fib(0)=0,fib(1)=1`)\n",
    "\n",
    "* Otherwise, the problem is made smaller by breaking it into two sub-problems. (`fib(n)` depends on both `fib(n-1)` and `fib(n-2)`)\n",
    "\n",
    "* Making two recursive calls to those smaller problems gives us the answer to those smaller problems, and adding up those up gives us the answer to the original problem.\n",
    "\n",
    "Tree recursive procedures typically take exponential time to compute, but sometimes they can be optimized.\n",
    "\n",
    "# Other important things about recursion\n",
    "\n",
    "## Order \n",
    "\n",
    "* In the simple case of a function calling itself only once, instructions placed before the recursive call are executed once per recursion before any of the instructions placed after the recursive call. The latter are executed repeatedly after the maximum recursion has been reached\n",
    "\n",
    "## Recursion versus Iteration\n",
    "\n",
    "* Performance Issues versus Expressiveness\n",
    "* Stack space: recursive algorithms tend to require more stack space than iterative algorithms\n",
    "* Linear recursion and iteration: https://mitpress.mit.edu/sites/default/files/sicp/full-text/sicp/book/node15.html\n",
    "\n",
    "> In the iterative case, the program variables provide a complete description of the state of the process at any point. If we stopped the computation between steps, all we would need to do to resume the computation is to supply the interpreter with the values of the three program variables.\n",
    ">\n",
    "> Not so with the recursive process. In this case there is some additional 'hidden' information, maintained by the interpreter and not contained in the program variables, which indicates 'where the process is' in negotiating the chain of deferred operations. The longer the chain, the more information must be maintained.\n",
    "\n",
    "* Iteration can be implemented recursively, for example, Newton's method. Note that recursive implementation $\\ne$ recursive computation."
   ]
  }
 ],
 "metadata": {
  "kernelspec": {
   "display_name": "C",
   "language": "c",
   "name": "c"
  },
  "language_info": {
   "file_extension": ".c",
   "mimetype": "text/plain",
   "name": "c"
  }
 },
 "nbformat": 4,
 "nbformat_minor": 4
}
