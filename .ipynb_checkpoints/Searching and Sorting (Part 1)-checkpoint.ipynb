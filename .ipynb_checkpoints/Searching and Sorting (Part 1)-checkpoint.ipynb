{
 "cells": [
  {
   "cell_type": "markdown",
   "metadata": {},
   "source": [
    "# 对序列的两种操作\n",
    "* 查找\n",
    "* 排序\n",
    "\n",
    "# 查找\n",
    "## 线性查找\n",
    "* 适用：任何列表\n",
    "* 关键：遍历"
   ]
  },
  {
   "cell_type": "code",
   "execution_count": null,
   "metadata": {},
   "outputs": [],
   "source": [
    "//@return the index of key in a ; -1 if not found\n",
    "int i_search (int key, vector<int>&a) {\n",
    "    int ret = -1;\n",
    "    for(auto i : a)\n",
    "        if(a[i]==key){\n",
    "            ret = i; break;\n",
    "        }\n",
    "    return ret;\n",
    "}"
   ]
  },
  {
   "cell_type": "markdown",
   "metadata": {},
   "source": [
    "## 二分查找\n",
    "* 适用：**有序**列表（一般的二分查找）\n",
    "* 关键：区间缩减"
   ]
  },
  {
   "cell_type": "code",
   "execution_count": null,
   "metadata": {},
   "outputs": [],
   "source": [
    "b_search(key, a, 0, a.size()-1);\n",
    "\n",
    "//recursive function, assuming a is in ascending order\n",
    "//search range: [start,end] \n",
    "int rb_search (int key, vector<int>& a, int start, int end) {\n",
    "    int ret = -1;\n",
    "    int mid = (end - start >> 1) + start; //avoid overflow in large lists\n",
    "    \n",
    "    if(a[mid] == key) ret = mid;\n",
    "    else if(a[mid] < key) ret = b_search(key,a,mid+1,end);\n",
    "    else ret = b_search(key,a,start,mid-1);\n",
    "    \n",
    "    return ret;\n",
    "}\n",
    "\n",
    "//iterative function, assuming a is in ascending order\n",
    "//search range: [start,end]\n",
    "int ib_search (int key, vector<int>& a, int start, int end) {\n",
    "    int ret = -1;\n",
    "    int mid = (end - start >> 1) + start; //avoid overflow in large lists\n",
    "    \n",
    "    \n",
    "    return ret;\n",
    "}"
   ]
  },
  {
   "cell_type": "markdown",
   "metadata": {},
   "source": [
    "## 复杂度分析\n",
    "* Linear. Time(Average): $O(n)$\n",
    "* Binary. Time(Average): $O(\\log n)$"
   ]
  },
  {
   "cell_type": "code",
   "execution_count": null,
   "metadata": {},
   "outputs": [],
   "source": []
  }
 ],
 "metadata": {
  "kernelspec": {
   "display_name": "C",
   "language": "c",
   "name": "c"
  },
  "language_info": {
   "file_extension": ".c",
   "mimetype": "text/plain",
   "name": "c"
  }
 },
 "nbformat": 4,
 "nbformat_minor": 4
}
