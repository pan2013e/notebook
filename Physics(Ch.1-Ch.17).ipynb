{
 "cells": [
  {
   "cell_type": "markdown",
   "metadata": {},
   "source": [
    "# ch1"
   ]
  },
  {
   "cell_type": "markdown",
   "metadata": {},
   "source": [
    "# Kinematics\n",
    "## Kinematics with vectors\n",
    "### Properties of vectors\n",
    "Vectors:both magnitude and direction\n",
    "Scalar:magnitude\n",
    "### Components of vectors\n",
    "* Cartesian system\n",
    "* Polar system\n",
    "### Calculation of vectors\n",
    "* Addition & subtraction\n",
    "* Multiplication:Dot product & Cross product\n",
    "## Displacement, Velocity and Acceleration\n",
    "### Displacement\n",
    "$\\Delta \\vec{r}=\\vec{r_B}-\\vec{r_A}$\n",
    "### Velocity\n",
    "$\\vec{v}=\\dfrac{d\\vec{r}}{dt}$"
   ]
  },
  {
   "cell_type": "code",
   "execution_count": null,
   "metadata": {},
   "outputs": [],
   "source": []
  }
 ],
 "metadata": {
  "kernelspec": {
   "display_name": "C",
   "language": "c",
   "name": "c"
  },
  "language_info": {
   "file_extension": ".c",
   "mimetype": "text/plain",
   "name": "c"
  }
 },
 "nbformat": 4,
 "nbformat_minor": 4
}
