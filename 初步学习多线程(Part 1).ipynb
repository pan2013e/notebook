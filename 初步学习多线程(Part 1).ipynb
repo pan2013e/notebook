{
 "cells": [
  {
   "cell_type": "markdown",
   "metadata": {},
   "source": [
    "Part 1 简单多线程程序的创建\n",
    "\n",
    "Reference: _Programming with POSIX Threads_ by David R.Butenhof\n",
    "# 建立和使用线程\n",
    "线程的生命周期：\n",
    "* 就绪（ready）：线程能够运行，但在等待可用的处理器。\n",
    "* 运行（running）：线程正在运行\n",
    "* 阻塞（blocked）：线程由于等待处理器外的其他条件无法运行，如条件变量的改变、加锁互斥量或I/O操作结束\n",
    "* 终止（terminated）：线程从起始函数中返回，或调用`pthread_exit`,或被取消。不是被分离，也不是被连接，一旦线程被分离或者连接，它就可以被收回。\n",
    "\n",
    "相关函数:"
   ]
  },
  {
   "cell_type": "code",
   "execution_count": null,
   "metadata": {},
   "outputs": [],
   "source": [
    "#include <pthread.h>\n",
    "\n",
    "pthread_t pthread;\n",
    "int pthread_equal(pthread_t t1, pthread_t t2);\n",
    "int pthread_create(pthread_t *thread, const pthread_attr_t *attr, void *(*start_func)(void *),void *arg);\n",
    "pthread_t pthread_self(void);\n",
    "int sched_yield(void);\n",
    "int pthread_exit(void *val_ptr);\n",
    "int pthread_detach(pthread_t thread);\n",
    "int pthread_join(pthread_t thread, void **val_ptr);"
   ]
  },
  {
   "cell_type": "markdown",
   "metadata": {},
   "source": [
    "C使用线程标识符ID来表示线程，线程ID属于封装的的`pthread_t`类型。\n",
    "`pthreads`线程通过调用用户提供的某些函数开始。这个函数应该只有一个`void *`类型的函数,并且返回`void *`类型\n"
   ]
  },
  {
   "cell_type": "markdown",
   "metadata": {},
   "source": [
    "# 同步——互斥量\n",
    "如果两个线程同时访问共享数据，就可能会有问题，因为一个线程可能在另一个线程修改共享数据的过程中使用该数据，并认为共享数据保持不变。\n",
    "看如下的例子："
   ]
  },
  {
   "cell_type": "code",
   "execution_count": null,
   "metadata": {},
   "outputs": [],
   "source": [
    "#include <stdio.h>\n",
    "#include <stdlib.h>\n",
    "#include <pthread.h>\n",
    "\n",
    "#define ll long long\n",
    "#define N 50000\n",
    "\n",
    "ll sum=0;\n",
    "\n",
    "void *sum_runner(void * arg){\n",
    "    ll offset=*(ll *)arg;\n",
    "    for(ll i=0;i<=N;i++)   sum+=offset;\n",
    "    pthread_exit(NULL);\n",
    "}\n",
    "\n",
    "int main(int argc, char *argv[]){\n",
    "    int offset1=1,offset2=-1;\n",
    "    pthread_t pid1,pid2;\n",
    "    \n",
    "    pthread_create(&pid1,NULL,sum_runner,&offset1);\n",
    "    pthread_create(&pid2,NULL,sum_runner,&offset2);\n",
    "    \n",
    "    pthread_join(pid1,NULL);\n",
    "    pthread_join(pid2,NULL);\n",
    "    \n",
    "    //Expected output: \"Sum is 0\"\n",
    "    printf(\"Sum is %lld\\n\",sum);\n",
    "    return 0;\n",
    "}"
   ]
  },
  {
   "cell_type": "markdown",
   "metadata": {},
   "source": [
    "运行这个程序，可以发现，它是计算不出正确结果的。\n",
    "\n",
    "检测这个程序，发现的确有data race的情况发生\n",
    "```\n",
    "$  gcc test.c -pthread -fsanitize=thread\n",
    "$  ./a.out\n",
    "==================\n",
    "WARNING: ThreadSanitizer: data race (pid=22837)\n",
    "  Write of size 8 at 0x000106cd6058 by thread T2:\n",
    "    #0 sum_runner <null>:1600784 (a.out:x86_64+0x100000db1)\n",
    "\n",
    "  Previous write of size 8 at 0x000106cd6058 by thread T1:\n",
    "    #0 sum_runner <null>:1600784 (a.out:x86_64+0x100000db1)\n",
    "\n",
    "  Location is global 'sum' at 0x000106cd6058 (a.out+0x000100002058)\n",
    "\n",
    "  Thread T2 (tid=5183121, running) created by main thread at:\n",
    "    #0 pthread_create <null>:1600864 (libclang_rt.tsan_osx_dynamic.dylib:x86_64h+0x2a9cd)\n",
    "    #1 main <null>:1600864 (a.out:x86_64+0x100000e6d)\n",
    "\n",
    "  Thread T1 (tid=5183119, finished) created by main thread at:\n",
    "    #0 pthread_create <null>:1600864 (libclang_rt.tsan_osx_dynamic.dylib:x86_64h+0x2a9cd)\n",
    "    #1 main <null>:1600864 (a.out:x86_64+0x100000e50)\n",
    "\n",
    "SUMMARY: ThreadSanitizer: data race (a.out:x86_64+0x100000db1) in sum_runner\n",
    "==================\n",
    "Sum is -5952196224051314688\n",
    "ThreadSanitizer: reported 1 warnings\n",
    "Abort trap: 6\n",
    "```\n",
    "\n",
    "使线程同步的常用方法就是确保对相关数据的内存访问“互斥”地进行，即一次只能允许一个线程写数据，其他线程必须等待。\n",
    "同步不仅在修改数据时重要，当线程需要读取其他线程写入的数据时，而且数据写入的顺序也有影响时，同样需要同步。\n",
    "\n",
    "\"信号灯”：互斥量 mutex(mutual exclusion)\n",
    "## 创建和销毁\n",
    "互斥量：`pthread_mutex_t`类型，不能拷贝互斥量变量，但可以拷贝其指针\n",
    "\n",
    "### 静态初始化"
   ]
  },
  {
   "cell_type": "code",
   "execution_count": null,
   "metadata": {},
   "outputs": [],
   "source": [
    "/* mutex statically initialized with default attributes */\n",
    "typedef struct mystruct {\n",
    "    pthread_mutex_t mutex;/* Protects access to value */\n",
    "    int             value;/* Access protected by mutex */\n",
    "} my_struct_t;\n",
    "\n",
    "my_struct_t data = {PTHREAD_MUTEX_INITIALIZER, 0}; //No need to destory"
   ]
  },
  {
   "cell_type": "markdown",
   "metadata": {},
   "source": [
    "### 动态初始化"
   ]
  },
  {
   "cell_type": "code",
   "execution_count": null,
   "metadata": {},
   "outputs": [],
   "source": [
    "my_struct_t *data2=malloc(sizeof(data2));\n",
    "\n",
    "pthread_mutex_init(&data->mutex,NULL);\n",
    "\n",
    "//Do something here...\n",
    "\n",
    "pthread_mutex_destroy(&data->mutex,NULL);\n",
    "\n",
    "free(data);"
   ]
  },
  {
   "cell_type": "markdown",
   "metadata": {},
   "source": [
    "**当确信没有线程在互斥量上阻塞时，可以立即释放它**\n",
    "\n",
    "## 加锁和解锁\n"
   ]
  }
 ],
 "metadata": {
  "kernelspec": {
   "display_name": "C",
   "language": "c",
   "name": "c"
  },
  "language_info": {
   "file_extension": ".c",
   "mimetype": "text/plain",
   "name": "c"
  }
 },
 "nbformat": 4,
 "nbformat_minor": 4
}
