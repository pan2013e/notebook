{
 "cells": [
  {
   "cell_type": "markdown",
   "metadata": {},
   "source": [
    "# Insertion Sort\n",
    "## Basic Idea\n",
    "\n",
    "* Assume there is a sorted segment, then insert unsorted elements.\n",
    "* Time complexity: $\\Theta (n^2)$"
   ]
  },
  {
   "cell_type": "code",
   "execution_count": null,
   "metadata": {},
   "outputs": [],
   "source": [
    "//recursive function\n",
    "//sort range:[begin,end]\n",
    "void insertion_sort(int a[],int begin,int end){\n",
    "    if(begin<end){\n",
    "       //sort [begin,end-1]  end -> end-1 -> ... -> begin -> ... end\n",
    "       insertion_sort(a,begin,end-1);\n",
    "       //[begin,end-1] is sorted\n",
    "       for(int i=end;i;i--){\n",
    "           if(a[i]<a[i-1]) swap(a[i],a[i-1]);\n",
    "           else break;\n",
    "       }\n",
    "    }\n",
    "}\n",
    "\n",
    "//iterative function\n",
    "//sort range:[begin,end]\n",
    "void _insertion_sort(int a[],int begin,int end){\n",
    "    for(int i=begin;i<end;i++){\n",
    "        int temp=a[i];\n",
    "        int j=i-1;\n",
    "        while(j>=0 && a[j]>temp){\n",
    "            a[j+1]= a[j];\n",
    "            j--;\n",
    "        }\n",
    "        a[j+1]=temp;\n",
    "    }\n",
    "}"
   ]
  },
  {
   "cell_type": "markdown",
   "metadata": {},
   "source": [
    "## Optimization: Binary Insertion Sort\n",
    "\n",
    "* Use binary search to figure out where to insert\n",
    "* Still $\\Theta (n^2)$, but can save time on comparing."
   ]
  },
  {
   "cell_type": "markdown",
   "metadata": {},
   "source": [
    "# Question: Merge two sorted arrays "
   ]
  },
  {
   "cell_type": "code",
   "execution_count": null,
   "metadata": {},
   "outputs": [],
   "source": [
    "//merge array a,b\n",
    "void merge(int q[], int l, int r) {\n",
    "    int k = 0, i = l, j = mid + 1;\n",
    "    while (i <= mid && j <= r)\n",
    "        if (q[i] <= q[j]) tmp[k ++ ] = q[i ++ ];\n",
    "        else tmp[k ++ ] = q[j ++ ];\n",
    "    while (i <= mid) tmp[k ++ ] = q[i ++ ];\n",
    "    while (j <= r) tmp[k ++ ] = q[j ++ ];\n",
    "    for (i = l, j = 0; i <= r; i ++, j ++ ) q[i] = tmp[j];\n",
    "}"
   ]
  },
  {
   "cell_type": "markdown",
   "metadata": {},
   "source": [
    "# Merge Sort\n",
    "\n",
    "## Basic Idea\n",
    "\n",
    "* Divide and conquer strategy\n",
    "* Key point: merge two sorted arrays\n",
    "* Time complexity:$\\Theta (n\\log n)$\n",
    "\n",
    "## Top down\n",
    "\n",
    "* Divide the unsorted list into sublists\n",
    "* Sort these sublists\n",
    "* Repeatedly merge sublists"
   ]
  },
  {
   "cell_type": "code",
   "execution_count": null,
   "metadata": {},
   "outputs": [],
   "source": [
    "void merge_sort(int a[],int l,int r){\n",
    "    if(l >= r) return;\n",
    "    int mid = l + ((r - l) >> 1);\n",
    "    \n",
    "    merge_sort(a,l, mid);\n",
    "    merge_sort(a,mid + 1, r);\n",
    "    \n",
    "    merge(a,l,r,mid);\n",
    "}"
   ]
  },
  {
   "cell_type": "markdown",
   "metadata": {},
   "source": [
    "## Bottom up"
   ]
  },
  {
   "cell_type": "code",
   "execution_count": null,
   "metadata": {},
   "outputs": [],
   "source": [
    "int a[N];\n",
    "\n",
    "void up_merge_sort(int a[],int n){\n",
    "    for(int width = 1; width < n; width *= 2){\n",
    "        //Merge two arrays with length 'width'\n",
    "        up_merge(...);\n",
    "    }\n",
    "}"
   ]
  },
  {
   "cell_type": "markdown",
   "metadata": {},
   "source": [
    "# Quick Sort\n",
    "\n",
    "## Basic Idea\n",
    "\n",
    "* Yet another example of divide and conquer strategy\n",
    "* Key Point: Choose a pivot, then move `a[i]` to its left if `a[i] < pivot`, to its right if `a[i] > pivot`\n",
    "* Time complexity: $\\Theta (n\\log n)$ on average\n",
    "\n",
    "## Partition\n",
    "\n",
    "* Lomuto partition scheme: `pivot = a[len-1]`\n",
    "* Hoare partition scheme\n",
    "* Other choices\n",
    "\n",
    "## How to choice a better pivot\n",
    "\n",
    "* Ideal pivot can partition array into even halves\n",
    "* Randomly choose one is a good idea\n",
    "\n",
    "## Model"
   ]
  },
  {
   "cell_type": "code",
   "execution_count": null,
   "metadata": {},
   "outputs": [],
   "source": [
    "void quick_sort(int q[], int l, int r){\n",
    "    if (l >= r) return;\n",
    "    int i = l - 1, j = r + 1;\n",
    "    int pivot = select_pivot(q,l,r); //choose the pivot as you want\n",
    "    while (i < j){\n",
    "        do i ++ ; while (q[i] < pivot);\n",
    "        do j -- ; while (q[j] > pivot);\n",
    "        if (i < j) swap(q[i], q[j]);\n",
    "    }\n",
    "    quick_sort(q, l, j);\n",
    "    quick_sort(q, j + 1, r);\n",
    "}"
   ]
  },
  {
   "cell_type": "markdown",
   "metadata": {},
   "source": [
    "## Use `qsort` in `stdlib.h`\n",
    "`void qsort(void *base, size_t nel, size_t width, int (*compar)(const void *, const void *));`\n",
    "\n",
    "\n",
    "*After class...*\n",
    "\n",
    "# 比较排序算法的速度\n",
    "\n",
    "* `run.sh`编译运行C程序\n",
    "* 程序1生成随机数\n",
    "* 程序2读取随机数进行排序，并计算排序时间\n",
    "* 程序3验证排序是否有效\n",
    "* 得到结果`result.txt\n",
    "\n",
    "`run.sh`:\n",
    "\n",
    "```bash\n",
    "#! /bin/bash\n",
    "rm -f *.txt\n",
    "rm -f *.out\n",
    "\n",
    "echo \"Test:\" >> result.txt\n",
    "echo \"Mode 1-bubble 2-selection 3-insertion 4-merge 5-quicksort 6-library-quicksort\" >> result.txt\n",
    "i=10\n",
    "while(($i<1000));\n",
    "do \n",
    "    gcc data.c -o create.out -DDATA_NUM=$((i*1000)) -w\n",
    "    ./create.out\n",
    "    for((j=1;j<=6;j++));\n",
    "    do\n",
    "    gcc sort.c -o  run.out -DDATA_NUM=$((i*1000)) -DMODE=${j} -w\n",
    "    echo -e \"$((i*1000)) ${j} \\c\" >> result.txt\n",
    "    ./run.out >> result.txt\n",
    "    # gcc verify.c  -o verify.out -w\n",
    "    # ./verify.out >> result.txt\n",
    "    done\n",
    "    i=`expr $i + 10`\n",
    "done\n",
    "```\n"
   ]
  },
  {
   "cell_type": "markdown",
   "metadata": {},
   "source": [
    "## 测试结果\n"
   ]
  }
 ],
 "metadata": {
  "kernelspec": {
   "display_name": "C",
   "language": "c",
   "name": "c"
  },
  "language_info": {
   "file_extension": ".c",
   "mimetype": "text/plain",
   "name": "c"
  }
 },
 "nbformat": 4,
 "nbformat_minor": 4
}
