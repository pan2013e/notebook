{
 "cells": [
  {
   "cell_type": "markdown",
   "metadata": {},
   "source": [
    "# Two important operations on a list\n",
    "* Searching\n",
    "* Sorting\n",
    "\n",
    "# Searching\n",
    "## Linear Search\n",
    "* Scope of application: any lists\n",
    "* Key point: iteration"
   ]
  },
  {
   "cell_type": "code",
   "execution_count": null,
   "metadata": {},
   "outputs": [],
   "source": [
    "//@return the index of key in a ; -1 if not found\n",
    "int l_search (int key, vector<int>&a) {\n",
    "    int ret = -1;\n",
    "    for(auto i : a)\n",
    "        if(a[i]==key){\n",
    "            ret = i; break;\n",
    "        }\n",
    "    return ret;\n",
    "}"
   ]
  },
  {
   "cell_type": "markdown",
   "metadata": {},
   "source": [
    "## Binary Search\n",
    "* Scope of application: **ordered** lists\n",
    "* Key point: narrowing down the searching scope"
   ]
  },
  {
   "cell_type": "code",
   "execution_count": null,
   "metadata": {},
   "outputs": [],
   "source": [
    "rb_search(key, a, 0, a.size()-1);\n",
    "\n",
    "//recursive function, assuming a is in ascending order\n",
    "//search range: [start,end] \n",
    "int rb_search (int key, int a[], int start, int end) {\n",
    "    int ret = -1;\n",
    "    int mid = (end - start >> 1) + start; //avoid overflow in large lists\n",
    "    \n",
    "    if(a[mid] == key) ret = mid;\n",
    "    else if(a[mid] < key) ret = b_search(key,a,mid+1,end);\n",
    "    else ret = b_search(key,a,start,mid-1);\n",
    "    \n",
    "    return ret;\n",
    "}\n",
    "\n",
    "//iterative function, assuming a is in ascending order\n",
    "//search range: [start,end]\n",
    "int ib_search (int key, int a[], int start, int end) {\n",
    "    int ret = -1;\n",
    "    while(start<=end){\n",
    "        int mid = (end - start >> 1) + start; //avoid overflow in large lists\n",
    "        if(a[mid]==key){\n",
    "            ret = mid; break;\n",
    "        }else if(a[mid]>key)\n",
    "            end=mid-1;\n",
    "        else\n",
    "            start=mid+1;\n",
    "    }\n",
    "    return ret;\n",
    "}"
   ]
  },
  {
   "cell_type": "markdown",
   "metadata": {},
   "source": [
    "## Optimization\n",
    "### Refining segmentation\n",
    "Instead of reducing the interval by half each time, we can divide it into more pieces."
   ]
  },
  {
   "cell_type": "code",
   "execution_count": null,
   "metadata": {},
   "outputs": [],
   "source": [
    "int tri_search(int a[], int start, int end, int key) {\n",
    "    if (start > end)\n",
    "        return -1;\n",
    "    //avoid overflow\n",
    "    int m1 = start + (end - start) / 3;\n",
    "    int m2 = end - (end - start) / 3;\n",
    "    if (a[m1]==key)\n",
    "        return m1;\n",
    "    else if (a[m1]>key)\n",
    "        return tri_search(a,start,m1-1, key);\n",
    "    else {\n",
    "        if (a[m2]==key)\n",
    "            return m2;\n",
    "        else if (a[m2]>key)\n",
    "            return tri_search(a,m1+1,m2-1,key);\n",
    "        else\n",
    "            return tri_search(a,m2+1,end,key);\n",
    "    }\n",
    "}"
   ]
  },
  {
   "cell_type": "markdown",
   "metadata": {},
   "source": [
    "# Sorting\n",
    "## Bubble Sort\n",
    "Different types of bubble sort: ascending or descending order; iterating form the beginning or the end\n",
    "\n",
    "### Key point\n",
    "* Steps: Compare adjacent elements and swap them if they're in reverse order\n",
    "* Target: Move the largest/smallest element to the end/beginning once at a time"
   ]
  },
  {
   "cell_type": "code",
   "execution_count": null,
   "metadata": {},
   "outputs": [],
   "source": [
    "//iterate from the beginning to the end of the list\n",
    "for(int i=0;i<n-1;i++){\n",
    "    for(int j=0;j<n-i-1;j++){\n",
    "        if(a[j]>a[j+1])  swap(a[j],a[j+1]);\n",
    "    }\n",
    "}"
   ]
  },
  {
   "cell_type": "markdown",
   "metadata": {},
   "source": [
    "## Selection Sort\n",
    "### Key point\n",
    "* Iterate from the beginning\n",
    "* Select the largest/smallest element, swap it and the current element"
   ]
  },
  {
   "cell_type": "code",
   "execution_count": null,
   "metadata": {},
   "outputs": [],
   "source": [
    "for(int i=0;i<n-1;i++){\n",
    "    int k=i;\n",
    "    for(int j=i+1;j<n;j++){\n",
    "        if(a[k]>a[j])   k=j; \n",
    "    }\n",
    "    if(k!=i)  swap(a[k],a[i]);\n",
    "}"
   ]
  },
  {
   "cell_type": "markdown",
   "metadata": {},
   "source": [
    "## Complexity\n",
    "Time(Average): $O(n^2)$"
   ]
  },
  {
   "cell_type": "markdown",
   "metadata": {},
   "source": [
    "# Optimization\n",
    "## Bubble Sort"
   ]
  },
  {
   "cell_type": "markdown",
   "metadata": {},
   "source": [
    "### Break earlier\n",
    "Sometimes, after swapping some elements, the list is already well-ordered, but the for-loop still goes on. If we can detect the the status of the list and break the loop at proper time, the program will run faster.\n",
    "\n",
    "If no swapping occurs in the inner loop, elements must be well-ordered."
   ]
  },
  {
   "cell_type": "code",
   "execution_count": null,
   "metadata": {},
   "outputs": [],
   "source": [
    "for(int i=0;i<n-1;i++){\n",
    "    bool isSwap=false;\n",
    "    for(int j=0;j<n-i-1;j++){\n",
    "        if(a[j]>a[j+1]){\n",
    "            swap(a[j],a[j+1]);\n",
    "            isSwap=true;\n",
    "        }\n",
    "    }\n",
    "    //no swapping --> well-ordered\n",
    "    if(!isSwap) break;\n",
    "}"
   ]
  },
  {
   "cell_type": "markdown",
   "metadata": {},
   "source": [
    "### Reduce iteration times\n",
    "We find the last position that swapping occurs, and elements after it must be well-ordered."
   ]
  },
  {
   "cell_type": "code",
   "execution_count": null,
   "metadata": {},
   "outputs": [],
   "source": [
    "//iteration times of the outer loop will not be infected by variable 'new'\n",
    "//we reduce iteration times of the inner loop using 'new'\n",
    "for (int i=0;i<n-1;i++){\n",
    "    int new=0;\n",
    "    for (int j=0;j<n;j++)\n",
    "        if (a[j]>a[j+1]){\n",
    "            swap(a[j],a[j+1];\n",
    "            new=j+1;\n",
    "        }\n",
    "    n=new;\n",
    "    //new==0 --> no swapping --> well-ordered\n",
    "    if (n==0)  break;\n",
    "}"
   ]
  },
  {
   "cell_type": "markdown",
   "metadata": {},
   "source": [
    "### Two-way Bubble Sort\n",
    "We sort the elements from two directions simultaneously."
   ]
  },
  {
   "cell_type": "code",
   "execution_count": null,
   "metadata": {},
   "outputs": [],
   "source": [
    "left = 0, right = n-1;\n",
    "while(left<right){\n",
    "    for(int i=left;i<=right-1;i++){\n",
    "        if(a[i]>a[i+1]) swap(a[i], a[i+1]);\n",
    "    }\n",
    "    right--;\n",
    "    \n",
    "    for(int i=right;i<=left+1;i--){\n",
    "        if(a[i-1]>a[i]) swap(a[i-1], a[i]);\n",
    "    }\n",
    "    left++;\n",
    "}"
   ]
  },
  {
   "cell_type": "markdown",
   "metadata": {},
   "source": [
    "## Selection Sort\n",
    "### Two-way Selection Sort\n",
    "We sort the elements from two directions simultaneously by finding the maximum and minimum element in just one loop."
   ]
  },
  {
   "cell_type": "code",
   "execution_count": null,
   "metadata": {},
   "outputs": [],
   "source": [
    "left=0, right=n-1;\n",
    "while(left<right){\n",
    "    int min=left, max=right;\n",
    "    for(int i=left;i<=right;i++){\n",
    "        if (a[i]<a[min])  min=i;\n",
    "        if (a[i]>a[max])  max=i;\n",
    "    }\n",
    "    swap(a[max], a[right]);\n",
    "    //important special case:\n",
    "    //after swapping, consider max-element at min-position\n",
    "    if (min==right)  min=max;\n",
    "    swap(a[min], a[left]);\n",
    "    left++, right--;\n",
    "}"
   ]
  }
 ],
 "metadata": {
  "kernelspec": {
   "display_name": "C",
   "language": "c",
   "name": "c"
  },
  "language_info": {
   "file_extension": ".c",
   "mimetype": "text/plain",
   "name": "c"
  }
 },
 "nbformat": 4,
 "nbformat_minor": 4
}
